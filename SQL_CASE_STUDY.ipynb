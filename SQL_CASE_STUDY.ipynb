{
 "cells": [
  {
   "cell_type": "code",
   "execution_count": 14,
   "id": "af2706e5",
   "metadata": {},
   "outputs": [],
   "source": [
    "import sqlite3\n",
    "from sqlite3 import Error"
   ]
  },
  {
   "cell_type": "code",
   "execution_count": 32,
   "id": "0578b254",
   "metadata": {},
   "outputs": [],
   "source": [
    "def create_connection(db_file):\n",
    "    \"\"\" create a database connection to the SQLite database\n",
    "        specified by the db_file\n",
    "    :param db_file: database file\n",
    "    :return: Connection object or None\n",
    "    \"\"\"\n",
    "    conn = None\n",
    "    try:\n",
    "        conn = sqlite3.connect(db_file)\n",
    "        print(sqlite3.version)\n",
    "    except Error as e:\n",
    "        print(e)\n",
    " \n",
    "    return conn"
   ]
  },
  {
   "cell_type": "code",
   "execution_count": 33,
   "id": "b75a824e",
   "metadata": {},
   "outputs": [],
   "source": [
    "def select_all_tasks(conn):\n",
    "    \"\"\"\n",
    "    Query all rows in the tasks table\n",
    "    :param conn: the Connection object\n",
    "    :return:\n",
    "    \"\"\"\n",
    "    cur = conn.cursor()\n",
    "    \n",
    "    query1 = \"\"\"\n",
    "select facs.name, sum(case \n",
    "when memid = 0 then slots * facs.guestcost\n",
    "else slots * membercostend) as revenue\n",
    "from Bookings bks\n",
    "inner join Facilities facs\n",
    "on bks.facid = facs.facid\n",
    "group by facs.name\n",
    "having sum(case \n",
    "when memid = 0 then slots * facs.guestcost\n",
    "else slots * membercost\n",
    "end) < 1000\n",
    "order by revenue;\n",
    "\n",
    "        \"\"\"\n",
    "    \n",
    "    cur.execute(query1)\n",
    "   \n",
    " \n",
    "    rows = cur.fetchall()\n",
    " \n",
    "    for row in rows:\n",
    "        print(row)"
   ]
  },
  {
   "cell_type": "code",
   "execution_count": 34,
   "id": "db75182d",
   "metadata": {},
   "outputs": [],
   "source": [
    "def main():\n",
    "    database = \"sqlite_db_pythonsqlite.db\"\n",
    " \n",
    "    # create a database connection\n",
    "    conn = create_connection(database)\n",
    "    with conn: \n",
    "        print(\"question_10\")\n",
    "        select_all_tasks(conn)"
   ]
  },
  {
   "cell_type": "code",
   "execution_count": 35,
   "id": "a327641b",
   "metadata": {},
   "outputs": [
    {
     "name": "stdout",
     "output_type": "stream",
     "text": [
      "2.6.0\n",
      "question_10\n",
      "('Table Tennis', 180)\n",
      "('Snooker Table', 240)\n",
      "('Pool Table', 270)\n"
     ]
    }
   ],
   "source": [
    "if __name__ == '__main__':\n",
    "    main()\n"
   ]
  },
  {
   "cell_type": "code",
   "execution_count": 36,
   "id": "c42175d6",
   "metadata": {},
   "outputs": [],
   "source": [
    "def select_all_tasks(conn):\n",
    "    \"\"\"\n",
    "    Query all rows in the tasks table\n",
    "    :param conn: the Connection object\n",
    "    :return:\n",
    "    \"\"\"\n",
    "    cur = conn.cursor()\n",
    "    \n",
    "    query1 = \"\"\"\n",
    "        select \n",
    "distinct Members.firstname, Members.surname, \n",
    "(select recommender.firstname || ' ' || recommender.surname from Members recommender where recommender.memid = Members.recommendedby)\n",
    "from  Members \n",
    "order by Members.firstname, Members.surname;\n",
    "\n",
    "\n",
    "        \"\"\"\n",
    "    \n",
    "    cur.execute(query1)\n",
    "   \n",
    " \n",
    "    rows = cur.fetchall()\n",
    " \n",
    "    for row in rows:\n",
    "        print(row)"
   ]
  },
  {
   "cell_type": "code",
   "execution_count": 37,
   "id": "0ba2a902",
   "metadata": {},
   "outputs": [],
   "source": [
    "def main():\n",
    "    database = \"sqlite_db_pythonsqlite.db\"\n",
    " \n",
    "    # create a database connection\n",
    "    conn = create_connection(database)\n",
    "    with conn: \n",
    "        print(\"question_11\")\n",
    "        select_all_tasks(conn)"
   ]
  },
  {
   "cell_type": "code",
   "execution_count": 38,
   "id": "8f18a939",
   "metadata": {},
   "outputs": [
    {
     "name": "stdout",
     "output_type": "stream",
     "text": [
      "2.6.0\n",
      "question_11\n",
      "('Anna', 'Mackenzie', 'Darren Smith')\n",
      "('Anne', 'Baker', 'Ponder Stibbons')\n",
      "('Burton', 'Tracy', None)\n",
      "('Charles', 'Owen', 'Darren Smith')\n",
      "('Darren', 'Smith', None)\n",
      "('David', 'Farrell', None)\n",
      "('David', 'Jones', 'Janice Joplette')\n",
      "('David', 'Pinker', 'Jemima Farrell')\n",
      "('Douglas', 'Jones', 'David Jones')\n",
      "('Erica', 'Crumpet', 'Tracy Smith')\n",
      "('Florence', 'Bader', 'Ponder Stibbons')\n",
      "('GUEST', 'GUEST', None)\n",
      "('Gerald', 'Butters', 'Darren Smith')\n",
      "('Henrietta', 'Rumney', 'Matthew Genting')\n",
      "('Henry', 'Worthington-Smyth', 'Tracy Smith')\n",
      "('Hyacinth', 'Tupperware', None)\n",
      "('Jack', 'Smith', 'Darren Smith')\n",
      "('Janice', 'Joplette', 'Darren Smith')\n",
      "('Jemima', 'Farrell', None)\n",
      "('Joan', 'Coplin', 'Timothy Baker')\n",
      "('John', 'Hunt', 'Millicent Purview')\n",
      "('Matthew', 'Genting', 'Gerald Butters')\n",
      "('Millicent', 'Purview', 'Tracy Smith')\n",
      "('Nancy', 'Dare', 'Janice Joplette')\n",
      "('Ponder', 'Stibbons', 'Burton Tracy')\n",
      "('Ramnaresh', 'Sarwin', 'Florence Bader')\n",
      "('Tim', 'Boothe', 'Tim Rownam')\n",
      "('Tim', 'Rownam', None)\n",
      "('Timothy', 'Baker', 'Jemima Farrell')\n",
      "('Tracy', 'Smith', None)\n"
     ]
    }
   ],
   "source": [
    "if __name__ == '__main__':\n",
    "    main()\n",
    "\n"
   ]
  },
  {
   "cell_type": "code",
   "execution_count": null,
   "id": "3f5398d8",
   "metadata": {},
   "outputs": [],
   "source": [
    "def select_all_tasks(conn):\n",
    "    \"\"\"\n",
    "    Query all rows in the tasks table\n",
    "    :param conn: the Connection object\n",
    "    :return:\n",
    "    \"\"\"\n",
    "    cur = conn.cursor()\n",
    "    \n",
    "    query1 = \"\"\"\n",
    "        select \n",
    "distinct Members.firstname, Members.surname, \n",
    "(select recommender.firstname || ' ' || recommender.surname from Members recommender where recommender.memid = Members.recommendedby)\n",
    "from  Members \n",
    "order by Members.firstname, Members.surname;\n",
    "\n",
    "\n",
    "        \"\"\"\n",
    "    \n",
    "    cur.execute(query1)\n",
    "   \n",
    " \n",
    "    rows = cur.fetchall()\n",
    " \n",
    "    for row in rows:\n",
    "        print(row)"
   ]
  },
  {
   "cell_type": "code",
   "execution_count": 39,
   "id": "99b3ae33",
   "metadata": {},
   "outputs": [],
   "source": [
    "def main():\n",
    "    database = \"sqlite_db_pythonsqlite.db\"\n",
    " \n",
    "    # create a database connection\n",
    "    conn = create_connection(database)\n",
    "    with conn: \n",
    "        print(\"question_12\")\n",
    "        select_all_tasks(conn)"
   ]
  },
  {
   "cell_type": "code",
   "execution_count": 40,
   "id": "4e1e69cf",
   "metadata": {},
   "outputs": [
    {
     "name": "stdout",
     "output_type": "stream",
     "text": [
      "2.6.0\n",
      "question_12\n",
      "('Anna', 'Mackenzie', 'Darren Smith')\n",
      "('Anne', 'Baker', 'Ponder Stibbons')\n",
      "('Burton', 'Tracy', None)\n",
      "('Charles', 'Owen', 'Darren Smith')\n",
      "('Darren', 'Smith', None)\n",
      "('David', 'Farrell', None)\n",
      "('David', 'Jones', 'Janice Joplette')\n",
      "('David', 'Pinker', 'Jemima Farrell')\n",
      "('Douglas', 'Jones', 'David Jones')\n",
      "('Erica', 'Crumpet', 'Tracy Smith')\n",
      "('Florence', 'Bader', 'Ponder Stibbons')\n",
      "('GUEST', 'GUEST', None)\n",
      "('Gerald', 'Butters', 'Darren Smith')\n",
      "('Henrietta', 'Rumney', 'Matthew Genting')\n",
      "('Henry', 'Worthington-Smyth', 'Tracy Smith')\n",
      "('Hyacinth', 'Tupperware', None)\n",
      "('Jack', 'Smith', 'Darren Smith')\n",
      "('Janice', 'Joplette', 'Darren Smith')\n",
      "('Jemima', 'Farrell', None)\n",
      "('Joan', 'Coplin', 'Timothy Baker')\n",
      "('John', 'Hunt', 'Millicent Purview')\n",
      "('Matthew', 'Genting', 'Gerald Butters')\n",
      "('Millicent', 'Purview', 'Tracy Smith')\n",
      "('Nancy', 'Dare', 'Janice Joplette')\n",
      "('Ponder', 'Stibbons', 'Burton Tracy')\n",
      "('Ramnaresh', 'Sarwin', 'Florence Bader')\n",
      "('Tim', 'Boothe', 'Tim Rownam')\n",
      "('Tim', 'Rownam', None)\n",
      "('Timothy', 'Baker', 'Jemima Farrell')\n",
      "('Tracy', 'Smith', None)\n"
     ]
    }
   ],
   "source": [
    "if __name__ == '__main__':\n",
    "    main()"
   ]
  },
  {
   "cell_type": "code",
   "execution_count": 46,
   "id": "31a3a684",
   "metadata": {},
   "outputs": [],
   "source": [
    "def select_all_tasks(conn):\n",
    "    \"\"\"\n",
    "    Query all rows in the tasks table\n",
    "    :param conn: the Connection object\n",
    "    :return:\n",
    "    \"\"\"\n",
    "    cur = conn.cursor()\n",
    "    \n",
    "    query1 = \"\"\"\n",
    "        select \n",
    "distinct Members.firstname, Members.surname, \n",
    "(select recommender.firstname || ' ' || recommender.surname from Members recommender where recommender.memid = Members.recommendedby)\n",
    "from  Members \n",
    "order by Members.firstname, Members.surname;\n",
    "\n",
    "\n",
    "        \"\"\"\n",
    "    \n",
    "    cur.execute(query1)\n",
    "   \n",
    " \n",
    "    rows = cur.fetchall()\n",
    " \n",
    "    for row in rows:\n",
    "        print(row)"
   ]
  },
  {
   "cell_type": "code",
   "execution_count": 47,
   "id": "7d764891",
   "metadata": {},
   "outputs": [],
   "source": [
    "def main():\n",
    "    database = \"sqlite_db_pythonsqlite.db\"\n",
    " \n",
    "    # create a database connection\n",
    "    conn = create_connection(database)\n",
    "    with conn: \n",
    "        print(\"question_13\")\n",
    "        select_all_tasks(conn)"
   ]
  },
  {
   "cell_type": "code",
   "execution_count": 48,
   "id": "958d942c",
   "metadata": {},
   "outputs": [
    {
     "name": "stdout",
     "output_type": "stream",
     "text": [
      "2.6.0\n",
      "question_13\n",
      "('Anna', 'Mackenzie', 'Darren Smith')\n",
      "('Anne', 'Baker', 'Ponder Stibbons')\n",
      "('Burton', 'Tracy', None)\n",
      "('Charles', 'Owen', 'Darren Smith')\n",
      "('Darren', 'Smith', None)\n",
      "('David', 'Farrell', None)\n",
      "('David', 'Jones', 'Janice Joplette')\n",
      "('David', 'Pinker', 'Jemima Farrell')\n",
      "('Douglas', 'Jones', 'David Jones')\n",
      "('Erica', 'Crumpet', 'Tracy Smith')\n",
      "('Florence', 'Bader', 'Ponder Stibbons')\n",
      "('GUEST', 'GUEST', None)\n",
      "('Gerald', 'Butters', 'Darren Smith')\n",
      "('Henrietta', 'Rumney', 'Matthew Genting')\n",
      "('Henry', 'Worthington-Smyth', 'Tracy Smith')\n",
      "('Hyacinth', 'Tupperware', None)\n",
      "('Jack', 'Smith', 'Darren Smith')\n",
      "('Janice', 'Joplette', 'Darren Smith')\n",
      "('Jemima', 'Farrell', None)\n",
      "('Joan', 'Coplin', 'Timothy Baker')\n",
      "('John', 'Hunt', 'Millicent Purview')\n",
      "('Matthew', 'Genting', 'Gerald Butters')\n",
      "('Millicent', 'Purview', 'Tracy Smith')\n",
      "('Nancy', 'Dare', 'Janice Joplette')\n",
      "('Ponder', 'Stibbons', 'Burton Tracy')\n",
      "('Ramnaresh', 'Sarwin', 'Florence Bader')\n",
      "('Tim', 'Boothe', 'Tim Rownam')\n",
      "('Tim', 'Rownam', None)\n",
      "('Timothy', 'Baker', 'Jemima Farrell')\n",
      "('Tracy', 'Smith', None)\n"
     ]
    }
   ],
   "source": [
    "if __name__ == '__main__':\n",
    "    main()"
   ]
  }
 ],
 "metadata": {
  "kernelspec": {
   "display_name": "Python 3",
   "language": "python",
   "name": "python3"
  },
  "language_info": {
   "codemirror_mode": {
    "name": "ipython",
    "version": 3
   },
   "file_extension": ".py",
   "mimetype": "text/x-python",
   "name": "python",
   "nbconvert_exporter": "python",
   "pygments_lexer": "ipython3",
   "version": "3.8.3"
  }
 },
 "nbformat": 4,
 "nbformat_minor": 5
}
